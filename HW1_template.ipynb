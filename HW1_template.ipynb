{
 "cells": [
  {
   "cell_type": "markdown",
   "id": "44367d9c-f6dd-4e35-b818-7ad754ea8361",
   "metadata": {},
   "source": [
    "# Homework 1, EDS 220\n",
    "## Practice with Data Manipulation\n",
    "\n",
    "This template provides the instructions for EDS 220 HW1, and some initial environment loading/package configuration commands which you are welcome to modify as needed. \n",
    "\n",
    "**You will need to supply your own code for this assignment! Feel free to cut and paste relevant lines from the course materials or elsewhere online, that's what coding is all about.**\n",
    "\n",
    "**You may work in teams for this assignment, but no more than 3 people/team.**\n",
    "\n",
    "### 0) Some hints to get you started\n",
    "\n",
    "This assignment is designed to be doable using the codes we've worked with in class so far, plus a bonus notebook I put together to demonstrate how to extract data from a Google Earth Engine ImageCollection and turn it into a Pandas DataFrame. Good places to look for example codes (in the main class repo unless otherwise specified):\n",
    "- _Time series extraction_: \"ExampleCommands_GEEDataExtraction_HW1\" (in the HW1 repo)\n",
    "- _Histogram creation_: \"HistogramKDE_precipitation_example\"\n",
    "- _GEE map creation_: \"NDVI_Landsat_GEE\"\n",
    "- _Map projection with Cartopy_: \"Cartopy_examples\", \"GEE_mapprojections_MODIS\"\n",
    "- _NDVI mapping_: \"NDVI_Landsat_GEE\"\n",
    "\n",
    "You DO NOT HAVE to use those examples, however - code from anywhere is fair game, as long as it runs correctly!"
   ]
  },
  {
   "cell_type": "code",
   "execution_count": 6,
   "id": "bd4f280e-c251-4a27-97fc-86df2717ddab",
   "metadata": {},
   "outputs": [],
   "source": [
    "# Import packages\n",
    "import ee\n",
    "import geemap\n",
    "import pandas as pd\n",
    "import matplotlib.pyplot as plt\n",
    "import numpy as np"
   ]
  },
  {
   "cell_type": "markdown",
   "id": "c72110b2-135c-4ef3-ad4a-d891ee5ee1a3",
   "metadata": {},
   "source": [
    "### 1. Choose A Study Region\n",
    "\n",
    "Think about places on Earth that you're interested in. This could be anywhere: Santa Barbara, your hometown, a place you always wanted to visit, you name it. \n",
    "\n",
    "For that place, then consider what it is like. Is it urban? Rural? Temperate? Tropical? Write a brief (1-2 paragraph) description of the local climate and population (if applicable)."
   ]
  },
  {
   "cell_type": "markdown",
   "id": "6d56ffa4-7f12-4aa4-8019-a2d35a356935",
   "metadata": {},
   "source": [
    "\n"
   ]
  },
  {
   "cell_type": "markdown",
   "id": "d113e815-f785-493a-8144-1ed78b0c8383",
   "metadata": {},
   "source": [
    "### 2. Locate A Precipitation Dataset\n",
    "\n",
    "Look through the Google Earth Engine data catalog:\n",
    "    https://developers.google.com/earth-engine/datasets\n",
    "    \n",
    "To keep things simple (ish), we'll stick with precipitation as our major climate variable. Precip is nice because there are lots of interesting spatial patterns that are easy to see without doing too much data processing! \n",
    "\n",
    "a. Choose one of the precipitation datasets available in GEE, any one you like. Explain briefly (1-2 paragraphs) why you chose it, and what you think its major advantages/properties might be and how they compare with other available data products.\n",
    "You can also explore the metadata associated with your dataset using the `print()` and `getInfo()` methods, or viewing on the description page for your dataset. See the example ERA5 analysis code provided in this repo for more details!"
   ]
  },
  {
   "cell_type": "markdown",
   "id": "0c9952f2-da88-47aa-9192-8acf3a5236ca",
   "metadata": {},
   "source": []
  },
  {
   "cell_type": "markdown",
   "id": "439f3299-07c9-43b3-9878-58124ed54112",
   "metadata": {},
   "source": [
    "### 3. Plot a Time Series of Precipitation\n",
    "\n",
    "Let's do a new type of analysis on the data: the creation of a time series. The \"ExampleCommands_HW1\" notebook should give you a starting point for how to do this - pull out data for your region of interest, and plot a time series."
   ]
  },
  {
   "cell_type": "markdown",
   "id": "b12f0165-1025-462f-a0e4-7fe96807a793",
   "metadata": {},
   "source": [
    "### 4. Make a Histogram of Precipitation\n",
    "\n",
    "Now using your time series data, create a histogram of precipitation. Describe it briefly: how skewed are the data (does it look like a 'normal' distribution/bell curve?) How large are the most extreme rainfall events in your region?"
   ]
  },
  {
   "cell_type": "markdown",
   "id": "01e0753a-3250-46ee-95d3-d692912e708c",
   "metadata": {},
   "source": [
    "### 5. Make Some Maps of Interesting Times\n",
    "\n",
    "Based on the time series of precipitation you just created, look for 1-2 interesting time periods. This could be days when extreme storms happened, or seasons (or years) that were above or below average precipitation.\n",
    "\n",
    "a. Explain briefly why you chose these particular time periods.\n",
    "\n",
    "b. Using the GEE Map method that we worked on in class, plot maps of those time periods. Things to think about:\n",
    "- choosing an appropriate zoom level to highlight the precipitation features you're interested in\n",
    "- setting appropriate min/max ranges for your plot, to allow the major features of regional precipitation to be easily visualized\n",
    "\n",
    "c. Using Cartopy, plot maps of the same time periods. Consider the most appropriate map projection to use here, and specify which one you chose.\n",
    "\n",
    "d. Describe briefly what is interesting about your maps!"
   ]
  },
  {
   "cell_type": "markdown",
   "id": "e74c19b6-888d-4ea9-ac71-cd2aa2c25d18",
   "metadata": {},
   "source": [
    "### 5. Plot Landsat NDVI for the Region"
   ]
  },
  {
   "cell_type": "markdown",
   "id": "492c8b38-9e92-41ba-9252-47bef3634265",
   "metadata": {},
   "source": [
    "The precipitation analysis discussed above provides useful context for identifying interesting weather events for a particular region. Now let's see what (if any!) effect changes in weather patterns have had on the landscape, using Landsat imagery. \n",
    "\n",
    "a. Make a long-term average NDVI map for your region: say, a 10- or 20-year mean. This will give you a baseline to compare against.\n",
    "\n",
    "b. Make an NDVI map centered on one of your 'interesting' time periods from the precipitation time series. How are the patterns different from the long-term average?\n"
   ]
  },
  {
   "cell_type": "code",
   "execution_count": null,
   "id": "6d121664-daa7-4ea0-82a7-a5cf53edb640",
   "metadata": {},
   "outputs": [],
   "source": []
  },
  {
   "cell_type": "code",
   "execution_count": null,
   "id": "4b354fa5-d34f-4672-ab9b-c987d9c90994",
   "metadata": {},
   "outputs": [],
   "source": []
  }
 ],
 "metadata": {
  "kernelspec": {
   "display_name": "Python 3 (ipykernel)",
   "language": "python",
   "name": "python3"
  },
  "language_info": {
   "codemirror_mode": {
    "name": "ipython",
    "version": 3
   },
   "file_extension": ".py",
   "mimetype": "text/x-python",
   "name": "python",
   "nbconvert_exporter": "python",
   "pygments_lexer": "ipython3",
   "version": "3.8.13"
  }
 },
 "nbformat": 4,
 "nbformat_minor": 5
}
